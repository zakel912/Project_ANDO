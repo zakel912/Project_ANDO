{
  "nbformat": 4,
  "nbformat_minor": 0,
  "metadata": {
    "colab": {
      "provenance": []
    },
    "kernelspec": {
      "name": "python3",
      "display_name": "Python 3"
    },
    "language_info": {
      "name": "python"
    }
  },
  "cells": [
    {
      "cell_type": "markdown",
      "source": [
        "\n",
        "\n",
        "**Install Data**\n",
        "\n"
      ],
      "metadata": {
        "id": "2f-x8F5em5T5"
      }
    },
    {
      "cell_type": "code",
      "execution_count": 5,
      "metadata": {
        "colab": {
          "base_uri": "https://localhost:8080/"
        },
        "id": "9VgRPbMSmULh",
        "outputId": "73e96237-3d43-426a-e393-54102fe1a1ca"
      },
      "outputs": [
        {
          "output_type": "stream",
          "name": "stdout",
          "text": [
            "Requirement already satisfied: kaggle in /usr/local/lib/python3.10/dist-packages (1.6.17)\n",
            "Requirement already satisfied: six>=1.10 in /usr/local/lib/python3.10/dist-packages (from kaggle) (1.16.0)\n",
            "Requirement already satisfied: certifi>=2023.7.22 in /usr/local/lib/python3.10/dist-packages (from kaggle) (2024.8.30)\n",
            "Requirement already satisfied: python-dateutil in /usr/local/lib/python3.10/dist-packages (from kaggle) (2.8.2)\n",
            "Requirement already satisfied: requests in /usr/local/lib/python3.10/dist-packages (from kaggle) (2.32.3)\n",
            "Requirement already satisfied: tqdm in /usr/local/lib/python3.10/dist-packages (from kaggle) (4.66.6)\n",
            "Requirement already satisfied: python-slugify in /usr/local/lib/python3.10/dist-packages (from kaggle) (8.0.4)\n",
            "Requirement already satisfied: urllib3 in /usr/local/lib/python3.10/dist-packages (from kaggle) (2.2.3)\n",
            "Requirement already satisfied: bleach in /usr/local/lib/python3.10/dist-packages (from kaggle) (6.2.0)\n",
            "Requirement already satisfied: webencodings in /usr/local/lib/python3.10/dist-packages (from bleach->kaggle) (0.5.1)\n",
            "Requirement already satisfied: text-unidecode>=1.3 in /usr/local/lib/python3.10/dist-packages (from python-slugify->kaggle) (1.3)\n",
            "Requirement already satisfied: charset-normalizer<4,>=2 in /usr/local/lib/python3.10/dist-packages (from requests->kaggle) (3.4.0)\n",
            "Requirement already satisfied: idna<4,>=2.5 in /usr/local/lib/python3.10/dist-packages (from requests->kaggle) (3.10)\n"
          ]
        }
      ],
      "source": [
        "!pip install kaggle\n"
      ]
    },
    {
      "cell_type": "code",
      "source": [
        "from google.colab import files\n",
        "files.upload()  # Sélectionnez ici le fichier `kaggle.json`\n",
        "\n"
      ],
      "metadata": {
        "colab": {
          "base_uri": "https://localhost:8080/",
          "height": 90
        },
        "id": "nCddWY2KmlWE",
        "outputId": "b6310872-232e-4aaa-dde6-dde66c05d131"
      },
      "execution_count": 6,
      "outputs": [
        {
          "output_type": "display_data",
          "data": {
            "text/plain": [
              "<IPython.core.display.HTML object>"
            ],
            "text/html": [
              "\n",
              "     <input type=\"file\" id=\"files-82c2f0e3-e3ce-47b7-9c87-6947f54de140\" name=\"files[]\" multiple disabled\n",
              "        style=\"border:none\" />\n",
              "     <output id=\"result-82c2f0e3-e3ce-47b7-9c87-6947f54de140\">\n",
              "      Upload widget is only available when the cell has been executed in the\n",
              "      current browser session. Please rerun this cell to enable.\n",
              "      </output>\n",
              "      <script>// Copyright 2017 Google LLC\n",
              "//\n",
              "// Licensed under the Apache License, Version 2.0 (the \"License\");\n",
              "// you may not use this file except in compliance with the License.\n",
              "// You may obtain a copy of the License at\n",
              "//\n",
              "//      http://www.apache.org/licenses/LICENSE-2.0\n",
              "//\n",
              "// Unless required by applicable law or agreed to in writing, software\n",
              "// distributed under the License is distributed on an \"AS IS\" BASIS,\n",
              "// WITHOUT WARRANTIES OR CONDITIONS OF ANY KIND, either express or implied.\n",
              "// See the License for the specific language governing permissions and\n",
              "// limitations under the License.\n",
              "\n",
              "/**\n",
              " * @fileoverview Helpers for google.colab Python module.\n",
              " */\n",
              "(function(scope) {\n",
              "function span(text, styleAttributes = {}) {\n",
              "  const element = document.createElement('span');\n",
              "  element.textContent = text;\n",
              "  for (const key of Object.keys(styleAttributes)) {\n",
              "    element.style[key] = styleAttributes[key];\n",
              "  }\n",
              "  return element;\n",
              "}\n",
              "\n",
              "// Max number of bytes which will be uploaded at a time.\n",
              "const MAX_PAYLOAD_SIZE = 100 * 1024;\n",
              "\n",
              "function _uploadFiles(inputId, outputId) {\n",
              "  const steps = uploadFilesStep(inputId, outputId);\n",
              "  const outputElement = document.getElementById(outputId);\n",
              "  // Cache steps on the outputElement to make it available for the next call\n",
              "  // to uploadFilesContinue from Python.\n",
              "  outputElement.steps = steps;\n",
              "\n",
              "  return _uploadFilesContinue(outputId);\n",
              "}\n",
              "\n",
              "// This is roughly an async generator (not supported in the browser yet),\n",
              "// where there are multiple asynchronous steps and the Python side is going\n",
              "// to poll for completion of each step.\n",
              "// This uses a Promise to block the python side on completion of each step,\n",
              "// then passes the result of the previous step as the input to the next step.\n",
              "function _uploadFilesContinue(outputId) {\n",
              "  const outputElement = document.getElementById(outputId);\n",
              "  const steps = outputElement.steps;\n",
              "\n",
              "  const next = steps.next(outputElement.lastPromiseValue);\n",
              "  return Promise.resolve(next.value.promise).then((value) => {\n",
              "    // Cache the last promise value to make it available to the next\n",
              "    // step of the generator.\n",
              "    outputElement.lastPromiseValue = value;\n",
              "    return next.value.response;\n",
              "  });\n",
              "}\n",
              "\n",
              "/**\n",
              " * Generator function which is called between each async step of the upload\n",
              " * process.\n",
              " * @param {string} inputId Element ID of the input file picker element.\n",
              " * @param {string} outputId Element ID of the output display.\n",
              " * @return {!Iterable<!Object>} Iterable of next steps.\n",
              " */\n",
              "function* uploadFilesStep(inputId, outputId) {\n",
              "  const inputElement = document.getElementById(inputId);\n",
              "  inputElement.disabled = false;\n",
              "\n",
              "  const outputElement = document.getElementById(outputId);\n",
              "  outputElement.innerHTML = '';\n",
              "\n",
              "  const pickedPromise = new Promise((resolve) => {\n",
              "    inputElement.addEventListener('change', (e) => {\n",
              "      resolve(e.target.files);\n",
              "    });\n",
              "  });\n",
              "\n",
              "  const cancel = document.createElement('button');\n",
              "  inputElement.parentElement.appendChild(cancel);\n",
              "  cancel.textContent = 'Cancel upload';\n",
              "  const cancelPromise = new Promise((resolve) => {\n",
              "    cancel.onclick = () => {\n",
              "      resolve(null);\n",
              "    };\n",
              "  });\n",
              "\n",
              "  // Wait for the user to pick the files.\n",
              "  const files = yield {\n",
              "    promise: Promise.race([pickedPromise, cancelPromise]),\n",
              "    response: {\n",
              "      action: 'starting',\n",
              "    }\n",
              "  };\n",
              "\n",
              "  cancel.remove();\n",
              "\n",
              "  // Disable the input element since further picks are not allowed.\n",
              "  inputElement.disabled = true;\n",
              "\n",
              "  if (!files) {\n",
              "    return {\n",
              "      response: {\n",
              "        action: 'complete',\n",
              "      }\n",
              "    };\n",
              "  }\n",
              "\n",
              "  for (const file of files) {\n",
              "    const li = document.createElement('li');\n",
              "    li.append(span(file.name, {fontWeight: 'bold'}));\n",
              "    li.append(span(\n",
              "        `(${file.type || 'n/a'}) - ${file.size} bytes, ` +\n",
              "        `last modified: ${\n",
              "            file.lastModifiedDate ? file.lastModifiedDate.toLocaleDateString() :\n",
              "                                    'n/a'} - `));\n",
              "    const percent = span('0% done');\n",
              "    li.appendChild(percent);\n",
              "\n",
              "    outputElement.appendChild(li);\n",
              "\n",
              "    const fileDataPromise = new Promise((resolve) => {\n",
              "      const reader = new FileReader();\n",
              "      reader.onload = (e) => {\n",
              "        resolve(e.target.result);\n",
              "      };\n",
              "      reader.readAsArrayBuffer(file);\n",
              "    });\n",
              "    // Wait for the data to be ready.\n",
              "    let fileData = yield {\n",
              "      promise: fileDataPromise,\n",
              "      response: {\n",
              "        action: 'continue',\n",
              "      }\n",
              "    };\n",
              "\n",
              "    // Use a chunked sending to avoid message size limits. See b/62115660.\n",
              "    let position = 0;\n",
              "    do {\n",
              "      const length = Math.min(fileData.byteLength - position, MAX_PAYLOAD_SIZE);\n",
              "      const chunk = new Uint8Array(fileData, position, length);\n",
              "      position += length;\n",
              "\n",
              "      const base64 = btoa(String.fromCharCode.apply(null, chunk));\n",
              "      yield {\n",
              "        response: {\n",
              "          action: 'append',\n",
              "          file: file.name,\n",
              "          data: base64,\n",
              "        },\n",
              "      };\n",
              "\n",
              "      let percentDone = fileData.byteLength === 0 ?\n",
              "          100 :\n",
              "          Math.round((position / fileData.byteLength) * 100);\n",
              "      percent.textContent = `${percentDone}% done`;\n",
              "\n",
              "    } while (position < fileData.byteLength);\n",
              "  }\n",
              "\n",
              "  // All done.\n",
              "  yield {\n",
              "    response: {\n",
              "      action: 'complete',\n",
              "    }\n",
              "  };\n",
              "}\n",
              "\n",
              "scope.google = scope.google || {};\n",
              "scope.google.colab = scope.google.colab || {};\n",
              "scope.google.colab._files = {\n",
              "  _uploadFiles,\n",
              "  _uploadFilesContinue,\n",
              "};\n",
              "})(self);\n",
              "</script> "
            ]
          },
          "metadata": {}
        },
        {
          "output_type": "stream",
          "name": "stdout",
          "text": [
            "Saving kaggle.json to kaggle.json\n"
          ]
        },
        {
          "output_type": "execute_result",
          "data": {
            "text/plain": [
              "{'kaggle.json': b'{\"username\":\"yasminebenyaala\",\"key\":\"94c06981247631eb81d7d2a5d627da32\"}'}"
            ]
          },
          "metadata": {},
          "execution_count": 6
        }
      ]
    },
    {
      "cell_type": "code",
      "source": [
        "import shutil\n",
        "import os\n",
        "\n",
        "# Créer le répertoire si nécessaire\n",
        "os.makedirs('/root/.kaggle', exist_ok=True)\n",
        "\n",
        "# Déplacer le fichier `kaggle.json` au bon endroit\n",
        "shutil.move('kaggle.json', '/root/.kaggle/kaggle.json')\n"
      ],
      "metadata": {
        "id": "DAjaw4x9p-FW",
        "colab": {
          "base_uri": "https://localhost:8080/",
          "height": 36
        },
        "outputId": "c24d4113-71ce-4832-f7aa-4f7d462eafd3"
      },
      "execution_count": 7,
      "outputs": [
        {
          "output_type": "execute_result",
          "data": {
            "text/plain": [
              "'/root/.kaggle/kaggle.json'"
            ],
            "application/vnd.google.colaboratory.intrinsic+json": {
              "type": "string"
            }
          },
          "metadata": {},
          "execution_count": 7
        }
      ]
    },
    {
      "cell_type": "code",
      "source": [
        "!chmod 600 /root/.kaggle/kaggle.json\n"
      ],
      "metadata": {
        "id": "_Q5e95jaqCob"
      },
      "execution_count": 8,
      "outputs": []
    },
    {
      "cell_type": "code",
      "source": [
        "!kaggle datasets list\n"
      ],
      "metadata": {
        "id": "NTcHuYG5qkVz",
        "colab": {
          "base_uri": "https://localhost:8080/"
        },
        "outputId": "c9187fcc-3e55-4fc8-c21c-1157dd7648ac"
      },
      "execution_count": 9,
      "outputs": [
        {
          "output_type": "stream",
          "name": "stdout",
          "text": [
            "ref                                                           title                                               size  lastUpdated          downloadCount  voteCount  usabilityRating  \n",
            "------------------------------------------------------------  -------------------------------------------------  -----  -------------------  -------------  ---------  ---------------  \n",
            "muhammadroshaanriaz/students-performance-dataset-cleaned      Students Performance | Clean Dataset                10KB  2024-10-29 19:32:26           8284        152  1.0              \n",
            "jacopoferretti/incomes-of-30k-usa-citizens                    Incomes of 30K USA Citizens                        468KB  2024-11-17 00:16:20           1008         22  1.0              \n",
            "steve1215rogg/student-lifestyle-dataset                       student lifestyle dataset                           22KB  2024-11-11 19:11:28           3818         53  1.0              \n",
            "jakewright/200k-youtube-channel-analytics                     200k YouTube Channel Analytics                       4MB  2024-11-13 16:31:28           1123         30  1.0              \n",
            "daniellopez01/credit-risk                                     credit_risk                                         13KB  2024-11-17 22:13:54            961         29  1.0              \n",
            "iamtapendu/bird-strike-by-aircafts-data                       Bird Strikes in Aviation: Aircraft Collisions        1MB  2024-11-15 13:41:24            776         24  1.0              \n",
            "valakhorasani/gym-members-exercise-dataset                    Gym Members Exercise Dataset                        22KB  2024-10-06 11:27:38          18606        263  1.0              \n",
            "whisperingkahuna/footballers-with-50-international-goals-men  Footballers with 50+ International Goals [men]       3KB  2024-11-17 12:51:23           1220         26  1.0              \n",
            "positivealexey/youtube-channel-performance-analytics          YouTube Channel Performance Analytics               40KB  2024-10-25 10:06:26           2218         35  1.0              \n",
            "valakhorasani/mobile-device-usage-and-user-behavior-dataset   Mobile Device Usage and User Behavior Dataset       11KB  2024-09-28 20:21:12          29166        553  1.0              \n",
            "computingvictor/transactions-fraud-datasets                   💳 Financial Transactions Dataset: Analytics        348MB  2024-10-31 21:29:56           4235         62  1.0              \n",
            "oscarbatiz/los-angeles-airbnb-listings                        Los Angeles Airbnb Listings                          3MB  2024-10-30 22:18:33           1323         22  1.0              \n",
            "ravindrasinghrana/carbon-co2-emissions                        Carbon (CO2) Emissions                              42KB  2024-10-28 09:11:56           2219         30  1.0              \n",
            "ironwolf437/laptop-price-dataset                              Laptop Price - dataset‏                             25KB  2024-11-12 15:50:44           2098         39  1.0              \n",
            "franciscogcc/financial-data                                   Gold Price Regression                              510KB  2024-10-23 23:35:36           1677         33  1.0              \n",
            "satayjit/student-performance-bd                               Student Performance-BD                             263KB  2024-11-14 05:43:38            835         25  0.88235295       \n",
            "mrmars1010/banana-quality-dataset                             Banana Quality dataset                              34KB  2024-11-07 08:52:35            986         27  0.9411765        \n",
            "taweilo/loan-approval-classification-data                     Loan Approval Classification Dataset               751KB  2024-10-29 04:07:34           4974         54  1.0              \n",
            "valakhorasani/bank-transaction-dataset-for-fraud-detection    Bank Transaction Dataset for Fraud Detection       102KB  2024-11-04 09:23:49           2737         52  1.0              \n",
            "aadyasingh55/drug-dataset                                     Drug Dataset: Uses, Side Effects and User Reviews  762KB  2024-10-22 13:53:50           1106         21  1.0              \n"
          ]
        }
      ]
    },
    {
      "cell_type": "code",
      "source": [
        "!kaggle datasets download -d davidcariboo/player-scores\n"
      ],
      "metadata": {
        "id": "OKbGFDfIqEZl",
        "colab": {
          "base_uri": "https://localhost:8080/"
        },
        "outputId": "c64e2d77-ab5c-4bb8-9ca6-967d45b5a89c"
      },
      "execution_count": 10,
      "outputs": [
        {
          "output_type": "stream",
          "name": "stdout",
          "text": [
            "Dataset URL: https://www.kaggle.com/datasets/davidcariboo/player-scores\n",
            "License(s): CC0-1.0\n",
            "Downloading player-scores.zip to /content\n",
            " 94% 152M/162M [00:02<00:00, 81.1MB/s]\n",
            "100% 162M/162M [00:02<00:00, 65.3MB/s]\n"
          ]
        }
      ]
    },
    {
      "cell_type": "code",
      "source": [
        "import zipfile\n",
        "import os\n",
        "\n",
        "# Décompresser le fichier ZIP\n",
        "with zipfile.ZipFile('player-scores.zip', 'r') as zip_ref:\n",
        "    zip_ref.extractall('.')  # Vous pouvez spécifier un autre chemin si nécessaire\n"
      ],
      "metadata": {
        "id": "YF7kg8PYsBhe"
      },
      "execution_count": 11,
      "outputs": []
    },
    {
      "cell_type": "markdown",
      "source": [
        "**Contenu data**"
      ],
      "metadata": {
        "id": "aZXtzEKhnH-g"
      }
    },
    {
      "cell_type": "code",
      "source": [
        "import pandas as pd\n",
        "\n",
        "# Vérifiez le contenu du répertoire pour trouver le nom du fichier CSV\n",
        "print(\"Fichiers dans le répertoire :\")\n",
        "print(os.listdir('.'))"
      ],
      "metadata": {
        "id": "U1XDVh_mskre",
        "colab": {
          "base_uri": "https://localhost:8080/"
        },
        "outputId": "3b2f29cf-d706-41ad-d0ab-c5b7364303af"
      },
      "execution_count": 12,
      "outputs": [
        {
          "output_type": "stream",
          "name": "stdout",
          "text": [
            "Fichiers dans le répertoire :\n",
            "['.config', 'competitions.csv', 'kaggle (1).json', 'appearances.csv', 'club_games.csv', 'players.csv', 'player-scores.zip', 'game_lineups.csv', 'transfers.csv', 'game_events.csv', 'clubs.csv', 'games.csv', 'player_valuations.csv', 'sample_data']\n"
          ]
        }
      ]
    },
    {
      "cell_type": "code",
      "source": [
        "import pandas as pd\n",
        "\n",
        "# Remplacer 'nom_du_fichier.csv' par le chemin de ton fichier CSV\n",
        "fichier = 'player_valuations.csv'\n",
        "\n",
        "# Charger le fichier CSV\n",
        "df = pd.read_csv(fichier)\n",
        "\n",
        "# Afficher le nombre de colonnes\n",
        "nombre_de_colonnes = len(df.columns)\n",
        "print(\"Nombre de colonnes:\", nombre_de_colonnes)\n"
      ],
      "metadata": {
        "id": "FNdxMgokw8jw",
        "colab": {
          "base_uri": "https://localhost:8080/"
        },
        "outputId": "68bd5b57-3b63-4a82-a7df-4f9ba991ec89"
      },
      "execution_count": 13,
      "outputs": [
        {
          "output_type": "stream",
          "name": "stdout",
          "text": [
            "Nombre de colonnes: 5\n"
          ]
        }
      ]
    },
    {
      "cell_type": "code",
      "source": [
        "import pandas as pd\n",
        "\n",
        "# Charger le fichier players.csv\n",
        "players_data = pd.read_csv('transfers.csv')\n",
        "\n",
        "# Afficher les noms des colonnes\n",
        "players_columns = players_data.columns.tolist()\n",
        "print(players_columns)\n"
      ],
      "metadata": {
        "id": "SKW9IdUH0cc3",
        "colab": {
          "base_uri": "https://localhost:8080/"
        },
        "outputId": "cb9dc9ab-5eb1-483b-c793-027d44e254a0"
      },
      "execution_count": 14,
      "outputs": [
        {
          "output_type": "stream",
          "name": "stdout",
          "text": [
            "['player_id', 'transfer_date', 'transfer_season', 'from_club_id', 'to_club_id', 'from_club_name', 'to_club_name', 'transfer_fee', 'market_value_in_eur', 'player_name']\n"
          ]
        }
      ]
    },
    {
      "cell_type": "code",
      "source": [
        "import pandas as pd\n",
        "\n",
        "# Charger le fichier players.csv\n",
        "players_data = pd.read_csv('game_lineups.csv')\n",
        "\n",
        "# Afficher les noms des colonnes\n",
        "players_columns = players_data.columns.tolist()\n",
        "print(players_columns)"
      ],
      "metadata": {
        "id": "qHEiMfdemxNt",
        "colab": {
          "base_uri": "https://localhost:8080/"
        },
        "outputId": "7d8ea97d-f312-4a0f-bf05-5363e7d9758e"
      },
      "execution_count": 15,
      "outputs": [
        {
          "output_type": "stream",
          "name": "stdout",
          "text": [
            "['game_lineups_id', 'date', 'game_id', 'player_id', 'club_id', 'player_name', 'type', 'position', 'number', 'team_captain']\n"
          ]
        }
      ]
    },
    {
      "cell_type": "code",
      "source": [
        "import pandas as pd\n",
        "\n",
        "# Charger le fichier players.csv\n",
        "players_data = pd.read_csv('competitions.csv')\n",
        "\n",
        "# Afficher les noms des colonnes\n",
        "players_columns = players_data.columns.tolist()\n",
        "print(players_columns)"
      ],
      "metadata": {
        "id": "_jRMNkbVm08I",
        "colab": {
          "base_uri": "https://localhost:8080/"
        },
        "outputId": "5627c0e0-91d3-4d35-f277-a7550e42258b"
      },
      "execution_count": 16,
      "outputs": [
        {
          "output_type": "stream",
          "name": "stdout",
          "text": [
            "['competition_id', 'competition_code', 'name', 'sub_type', 'type', 'country_id', 'country_name', 'domestic_league_code', 'confederation', 'url', 'is_major_national_league']\n"
          ]
        }
      ]
    },
    {
      "cell_type": "code",
      "source": [
        "import pandas as pd\n",
        "\n",
        "# Charger le fichier players.csv\n",
        "players_data = pd.read_csv('games.csv')\n",
        "\n",
        "# Afficher les noms des colonnes\n",
        "players_columns = players_data.columns.tolist()\n",
        "print(players_columns)"
      ],
      "metadata": {
        "id": "HODdoTpXm0kg",
        "colab": {
          "base_uri": "https://localhost:8080/"
        },
        "outputId": "af54e473-802a-46fa-8c5c-9ca89e85c4b5"
      },
      "execution_count": 17,
      "outputs": [
        {
          "output_type": "stream",
          "name": "stdout",
          "text": [
            "['game_id', 'competition_id', 'season', 'round', 'date', 'home_club_id', 'away_club_id', 'home_club_goals', 'away_club_goals', 'home_club_position', 'away_club_position', 'home_club_manager_name', 'away_club_manager_name', 'stadium', 'attendance', 'referee', 'url', 'home_club_formation', 'away_club_formation', 'home_club_name', 'away_club_name', 'aggregate', 'competition_type']\n"
          ]
        }
      ]
    },
    {
      "cell_type": "code",
      "source": [
        "import pandas as pd\n",
        "\n",
        "# Charger le fichier players.csv\n",
        "players_data = pd.read_csv('game_events.csv')\n",
        "\n",
        "# Afficher les noms des colonnes\n",
        "players_columns = players_data.columns.tolist()\n",
        "print(players_columns)"
      ],
      "metadata": {
        "id": "vRA5997Dm0DD",
        "colab": {
          "base_uri": "https://localhost:8080/"
        },
        "outputId": "be3ad247-7010-4dcb-cbac-205f0b8d0521"
      },
      "execution_count": 18,
      "outputs": [
        {
          "output_type": "stream",
          "name": "stdout",
          "text": [
            "['game_event_id', 'date', 'game_id', 'minute', 'type', 'club_id', 'player_id', 'description', 'player_in_id', 'player_assist_id']\n"
          ]
        }
      ]
    },
    {
      "cell_type": "code",
      "source": [
        "import pandas as pd\n",
        "\n",
        "# Charger le fichier players.csv\n",
        "players_data = pd.read_csv('appearances.csv')\n",
        "\n",
        "# Afficher les noms des colonnes\n",
        "players_columns = players_data.columns.tolist()\n",
        "print(players_columns)"
      ],
      "metadata": {
        "id": "K7QfNVRZmzir",
        "colab": {
          "base_uri": "https://localhost:8080/"
        },
        "outputId": "3fbd42a4-f13a-446f-ca48-fe0a94e12922"
      },
      "execution_count": 19,
      "outputs": [
        {
          "output_type": "stream",
          "name": "stdout",
          "text": [
            "['appearance_id', 'game_id', 'player_id', 'player_club_id', 'player_current_club_id', 'date', 'player_name', 'competition_id', 'yellow_cards', 'red_cards', 'goals', 'assists', 'minutes_played']\n"
          ]
        }
      ]
    },
    {
      "cell_type": "code",
      "source": [
        "import pandas as pd\n",
        "\n",
        "# Charger le fichier players.csv\n",
        "players_data = pd.read_csv('clubs.csv')\n",
        "\n",
        "# Afficher les noms des colonnes\n",
        "players_columns = players_data.columns.tolist()\n",
        "print(players_columns)"
      ],
      "metadata": {
        "id": "u4SB_8tDoMmb",
        "colab": {
          "base_uri": "https://localhost:8080/"
        },
        "outputId": "d27ceb9c-c6df-4584-8777-e716f4e96c8d"
      },
      "execution_count": 20,
      "outputs": [
        {
          "output_type": "stream",
          "name": "stdout",
          "text": [
            "['club_id', 'club_code', 'name', 'domestic_competition_id', 'total_market_value', 'squad_size', 'average_age', 'foreigners_number', 'foreigners_percentage', 'national_team_players', 'stadium_name', 'stadium_seats', 'net_transfer_record', 'coach_name', 'last_season', 'filename', 'url']\n"
          ]
        }
      ]
    },
    {
      "cell_type": "code",
      "source": [
        "import pandas as pd\n",
        "\n",
        "# Charger le fichier players.csv\n",
        "players_data = pd.read_csv('club_games.csv')\n",
        "\n",
        "# Afficher les noms des colonnes\n",
        "players_columns = players_data.columns.tolist()\n",
        "print(players_columns)"
      ],
      "metadata": {
        "id": "mYtAA7p_oN06",
        "colab": {
          "base_uri": "https://localhost:8080/"
        },
        "outputId": "23f2d47d-a512-4193-e71e-9dd9fb5898ad"
      },
      "execution_count": 21,
      "outputs": [
        {
          "output_type": "stream",
          "name": "stdout",
          "text": [
            "['game_id', 'club_id', 'own_goals', 'own_position', 'own_manager_name', 'opponent_id', 'opponent_goals', 'opponent_position', 'opponent_manager_name', 'hosting', 'is_win']\n"
          ]
        }
      ]
    },
    {
      "cell_type": "code",
      "source": [
        "import pandas as pd\n",
        "\n",
        "# Charger le fichier players.csv\n",
        "players_data = pd.read_csv('players.csv')\n",
        "\n",
        "# Afficher les noms des colonnes\n",
        "players_columns = players_data.columns.tolist()\n",
        "print(players_columns)"
      ],
      "metadata": {
        "id": "K9_uaFj4oY3k",
        "colab": {
          "base_uri": "https://localhost:8080/"
        },
        "outputId": "b9b579b5-4940-4bdd-f4cd-3bc960cd54c6"
      },
      "execution_count": 22,
      "outputs": [
        {
          "output_type": "stream",
          "name": "stdout",
          "text": [
            "['player_id', 'first_name', 'last_name', 'name', 'last_season', 'current_club_id', 'player_code', 'country_of_birth', 'city_of_birth', 'country_of_citizenship', 'date_of_birth', 'sub_position', 'position', 'foot', 'height_in_cm', 'contract_expiration_date', 'agent_name', 'image_url', 'url', 'current_club_domestic_competition_id', 'current_club_name', 'market_value_in_eur', 'highest_market_value_in_eur']\n"
          ]
        }
      ]
    },
    {
      "cell_type": "code",
      "source": [
        "import pandas as pd\n",
        "\n",
        "# Charger le fichier players.csv\n",
        "players_data = pd.read_csv('player_valuations.csv')\n",
        "\n",
        "# Afficher les noms des colonnes\n",
        "players_columns = players_data.columns.tolist()\n",
        "print(players_columns)"
      ],
      "metadata": {
        "id": "EpkSAx-loX1A",
        "colab": {
          "base_uri": "https://localhost:8080/"
        },
        "outputId": "8cfa067c-d693-48b0-e91b-977a292c0f84"
      },
      "execution_count": 23,
      "outputs": [
        {
          "output_type": "stream",
          "name": "stdout",
          "text": [
            "['player_id', 'date', 'market_value_in_eur', 'current_club_id', 'player_club_domestic_competition_id']\n"
          ]
        }
      ]
    },
    {
      "cell_type": "markdown",
      "source": [
        "**Quelques lignes de appearances**"
      ],
      "metadata": {
        "id": "r9s41uOOnei1"
      }
    },
    {
      "cell_type": "code",
      "source": [
        "import pandas as pd\n",
        "\n",
        "# Remplacez 'players.csv' par le nom du fichier que vous souhaitez charger\n",
        "file_name = 'appearances.csv'\n",
        "\n",
        "# Vérifiez si le fichier existe et chargez les données\n",
        "if os.path.isfile(file_name):\n",
        "    data = pd.read_csv(file_name)\n",
        "    print(\"Premières lignes du dataset :\")\n",
        "    print(data.head())\n",
        "else:\n",
        "    print(f\"Le fichier {file_name} n'a pas été trouvé dans le répertoire actuel.\")\n"
      ],
      "metadata": {
        "id": "8OYL4fUesHAs",
        "colab": {
          "base_uri": "https://localhost:8080/"
        },
        "outputId": "f8d9ad61-4c57-46f0-aa41-30d9fd613b6c"
      },
      "execution_count": 24,
      "outputs": [
        {
          "output_type": "stream",
          "name": "stdout",
          "text": [
            "Premières lignes du dataset :\n",
            "    appearance_id  game_id  player_id  player_club_id  player_current_club_id  \\\n",
            "0   2231978_38004  2231978      38004             853                     235   \n",
            "1   2233748_79232  2233748      79232            8841                    2698   \n",
            "2   2234413_42792  2234413      42792            6251                     465   \n",
            "3   2234418_73333  2234418      73333            1274                    6646   \n",
            "4  2234421_122011  2234421     122011             195                    3008   \n",
            "\n",
            "         date       player_name competition_id  yellow_cards  red_cards  \\\n",
            "0  2012-07-03  Aurélien Joachim            CLQ             0          0   \n",
            "1  2012-07-05    Ruslan Abyshov            ELQ             0          0   \n",
            "2  2012-07-05       Sander Puri            ELQ             0          0   \n",
            "3  2012-07-05   Vegar Hedenstad            ELQ             0          0   \n",
            "4  2012-07-05  Markus Henriksen            ELQ             0          0   \n",
            "\n",
            "   goals  assists  minutes_played  \n",
            "0      2        0              90  \n",
            "1      0        0              90  \n",
            "2      0        0              45  \n",
            "3      0        0              90  \n",
            "4      0        1              90  \n"
          ]
        }
      ]
    },
    {
      "cell_type": "markdown",
      "source": [
        "**Quelques lignes de players**"
      ],
      "metadata": {
        "id": "1sK3j8AannW4"
      }
    },
    {
      "cell_type": "code",
      "source": [
        "import pandas as pd\n",
        "\n",
        "# Remplacez 'players.csv' par le nom du fichier que vous souhaitez charger\n",
        "file_name = 'players.csv'\n",
        "\n",
        "# Vérifiez si le fichier existe et chargez les données\n",
        "if os.path.isfile(file_name):\n",
        "    data = pd.read_csv(file_name)\n",
        "    print(\"Premières lignes du dataset :\")\n",
        "    print(data.head())\n",
        "else:\n",
        "    print(f\"Le fichier {file_name} n'a pas été trouvé dans le répertoire actuel.\")\n"
      ],
      "metadata": {
        "id": "Mh9jb79BzQQc",
        "colab": {
          "base_uri": "https://localhost:8080/"
        },
        "outputId": "6fcb7bba-3f7e-42e3-e53f-f4014f8d6b9d"
      },
      "execution_count": 25,
      "outputs": [
        {
          "output_type": "stream",
          "name": "stdout",
          "text": [
            "Premières lignes du dataset :\n",
            "   player_id first_name     last_name                name  last_season  \\\n",
            "0         10   Miroslav         Klose      Miroslav Klose         2015   \n",
            "1         26      Roman  Weidenfeller  Roman Weidenfeller         2017   \n",
            "2         65    Dimitar      Berbatov    Dimitar Berbatov         2015   \n",
            "3         77        NaN         Lúcio               Lúcio         2012   \n",
            "4         80        Tom        Starke          Tom Starke         2017   \n",
            "\n",
            "   current_club_id         player_code    country_of_birth city_of_birth  \\\n",
            "0              398      miroslav-klose              Poland         Opole   \n",
            "1               16  roman-weidenfeller             Germany          Diez   \n",
            "2             1091    dimitar-berbatov            Bulgaria   Blagoevgrad   \n",
            "3              506               lucio              Brazil      Brasília   \n",
            "4               27          tom-starke  East Germany (GDR)       Freital   \n",
            "\n",
            "  country_of_citizenship  ...   foot height_in_cm contract_expiration_date  \\\n",
            "0                Germany  ...  right        184.0                      NaN   \n",
            "1                Germany  ...   left        190.0                      NaN   \n",
            "2               Bulgaria  ...    NaN          NaN                      NaN   \n",
            "3                 Brazil  ...    NaN          NaN                      NaN   \n",
            "4                Germany  ...  right        194.0                      NaN   \n",
            "\n",
            "             agent_name                                          image_url  \\\n",
            "0  ASBW Sport Marketing  https://img.a.transfermarkt.technology/portrai...   \n",
            "1      Neubauer 13 GmbH  https://img.a.transfermarkt.technology/portrai...   \n",
            "2       CSKA-AS-23 Ltd.  https://img.a.transfermarkt.technology/portrai...   \n",
            "3                   NaN  https://img.a.transfermarkt.technology/portrai...   \n",
            "4                   IFM  https://img.a.transfermarkt.technology/portrai...   \n",
            "\n",
            "                                                 url  \\\n",
            "0  https://www.transfermarkt.co.uk/miroslav-klose...   \n",
            "1  https://www.transfermarkt.co.uk/roman-weidenfe...   \n",
            "2  https://www.transfermarkt.co.uk/dimitar-berbat...   \n",
            "3  https://www.transfermarkt.co.uk/lucio/profil/s...   \n",
            "4  https://www.transfermarkt.co.uk/tom-starke/pro...   \n",
            "\n",
            "  current_club_domestic_competition_id  \\\n",
            "0                                  IT1   \n",
            "1                                   L1   \n",
            "2                                  GR1   \n",
            "3                                  IT1   \n",
            "4                                   L1   \n",
            "\n",
            "                                   current_club_name market_value_in_eur  \\\n",
            "0                      Società Sportiva Lazio S.p.A.           1000000.0   \n",
            "1                                  Borussia Dortmund            750000.0   \n",
            "2  Panthessalonikios Athlitikos Omilos Konstantin...           1000000.0   \n",
            "3                             Juventus Football Club            200000.0   \n",
            "4                                  FC Bayern München            100000.0   \n",
            "\n",
            "  highest_market_value_in_eur  \n",
            "0                  30000000.0  \n",
            "1                   8000000.0  \n",
            "2                  34500000.0  \n",
            "3                  24500000.0  \n",
            "4                   3000000.0  \n",
            "\n",
            "[5 rows x 23 columns]\n"
          ]
        }
      ]
    },
    {
      "cell_type": "markdown",
      "source": [
        "**Application du FCA**"
      ],
      "metadata": {
        "id": "ip9isIiknvFD"
      }
    },
    {
      "cell_type": "code",
      "source": [
        "!pip install prince\n"
      ],
      "metadata": {
        "colab": {
          "base_uri": "https://localhost:8080/"
        },
        "id": "706Ple1b6Why",
        "outputId": "fb0240ba-9564-48b4-d3a3-e259e60daa36"
      },
      "execution_count": 28,
      "outputs": [
        {
          "output_type": "stream",
          "name": "stdout",
          "text": [
            "Collecting prince\n",
            "  Downloading prince-0.14.0-py3-none-any.whl.metadata (639 bytes)\n",
            "Collecting altair<6.0.0,>=5.0.0 (from prince)\n",
            "  Downloading altair-5.4.1-py3-none-any.whl.metadata (9.4 kB)\n",
            "Requirement already satisfied: pandas<3.0.0,>=2.2.0 in /usr/local/lib/python3.10/dist-packages (from prince) (2.2.2)\n",
            "Requirement already satisfied: scikit-learn<2.0.0,>=1.5.1 in /usr/local/lib/python3.10/dist-packages (from prince) (1.5.2)\n",
            "Requirement already satisfied: jinja2 in /usr/local/lib/python3.10/dist-packages (from altair<6.0.0,>=5.0.0->prince) (3.1.4)\n",
            "Requirement already satisfied: jsonschema>=3.0 in /usr/local/lib/python3.10/dist-packages (from altair<6.0.0,>=5.0.0->prince) (4.23.0)\n",
            "Collecting narwhals>=1.5.2 (from altair<6.0.0,>=5.0.0->prince)\n",
            "  Downloading narwhals-1.14.1-py3-none-any.whl.metadata (7.4 kB)\n",
            "Requirement already satisfied: packaging in /usr/local/lib/python3.10/dist-packages (from altair<6.0.0,>=5.0.0->prince) (24.2)\n",
            "Requirement already satisfied: typing-extensions>=4.10.0 in /usr/local/lib/python3.10/dist-packages (from altair<6.0.0,>=5.0.0->prince) (4.12.2)\n",
            "Requirement already satisfied: numpy>=1.22.4 in /usr/local/lib/python3.10/dist-packages (from pandas<3.0.0,>=2.2.0->prince) (1.26.4)\n",
            "Requirement already satisfied: python-dateutil>=2.8.2 in /usr/local/lib/python3.10/dist-packages (from pandas<3.0.0,>=2.2.0->prince) (2.8.2)\n",
            "Requirement already satisfied: pytz>=2020.1 in /usr/local/lib/python3.10/dist-packages (from pandas<3.0.0,>=2.2.0->prince) (2024.2)\n",
            "Requirement already satisfied: tzdata>=2022.7 in /usr/local/lib/python3.10/dist-packages (from pandas<3.0.0,>=2.2.0->prince) (2024.2)\n",
            "Requirement already satisfied: scipy>=1.6.0 in /usr/local/lib/python3.10/dist-packages (from scikit-learn<2.0.0,>=1.5.1->prince) (1.13.1)\n",
            "Requirement already satisfied: joblib>=1.2.0 in /usr/local/lib/python3.10/dist-packages (from scikit-learn<2.0.0,>=1.5.1->prince) (1.4.2)\n",
            "Requirement already satisfied: threadpoolctl>=3.1.0 in /usr/local/lib/python3.10/dist-packages (from scikit-learn<2.0.0,>=1.5.1->prince) (3.5.0)\n",
            "Requirement already satisfied: attrs>=22.2.0 in /usr/local/lib/python3.10/dist-packages (from jsonschema>=3.0->altair<6.0.0,>=5.0.0->prince) (24.2.0)\n",
            "Requirement already satisfied: jsonschema-specifications>=2023.03.6 in /usr/local/lib/python3.10/dist-packages (from jsonschema>=3.0->altair<6.0.0,>=5.0.0->prince) (2024.10.1)\n",
            "Requirement already satisfied: referencing>=0.28.4 in /usr/local/lib/python3.10/dist-packages (from jsonschema>=3.0->altair<6.0.0,>=5.0.0->prince) (0.35.1)\n",
            "Requirement already satisfied: rpds-py>=0.7.1 in /usr/local/lib/python3.10/dist-packages (from jsonschema>=3.0->altair<6.0.0,>=5.0.0->prince) (0.21.0)\n",
            "Requirement already satisfied: six>=1.5 in /usr/local/lib/python3.10/dist-packages (from python-dateutil>=2.8.2->pandas<3.0.0,>=2.2.0->prince) (1.16.0)\n",
            "Requirement already satisfied: MarkupSafe>=2.0 in /usr/local/lib/python3.10/dist-packages (from jinja2->altair<6.0.0,>=5.0.0->prince) (3.0.2)\n",
            "Downloading prince-0.14.0-py3-none-any.whl (415 kB)\n",
            "\u001b[2K   \u001b[90m━━━━━━━━━━━━━━━━━━━━━━━━━━━━━━━━━━━━━━━━\u001b[0m \u001b[32m415.9/415.9 kB\u001b[0m \u001b[31m6.7 MB/s\u001b[0m eta \u001b[36m0:00:00\u001b[0m\n",
            "\u001b[?25hDownloading altair-5.4.1-py3-none-any.whl (658 kB)\n",
            "\u001b[2K   \u001b[90m━━━━━━━━━━━━━━━━━━━━━━━━━━━━━━━━━━━━━━━━\u001b[0m \u001b[32m658.1/658.1 kB\u001b[0m \u001b[31m24.2 MB/s\u001b[0m eta \u001b[36m0:00:00\u001b[0m\n",
            "\u001b[?25hDownloading narwhals-1.14.1-py3-none-any.whl (220 kB)\n",
            "\u001b[2K   \u001b[90m━━━━━━━━━━━━━━━━━━━━━━━━━━━━━━━━━━━━━━━━\u001b[0m \u001b[32m220.6/220.6 kB\u001b[0m \u001b[31m11.2 MB/s\u001b[0m eta \u001b[36m0:00:00\u001b[0m\n",
            "\u001b[?25hInstalling collected packages: narwhals, altair, prince\n",
            "  Attempting uninstall: altair\n",
            "    Found existing installation: altair 4.2.2\n",
            "    Uninstalling altair-4.2.2:\n",
            "      Successfully uninstalled altair-4.2.2\n",
            "Successfully installed altair-5.4.1 narwhals-1.14.1 prince-0.14.0\n"
          ]
        }
      ]
    },
    {
      "cell_type": "code",
      "source": [
        "import pandas as pd\n",
        "import numpy as np\n",
        "import prince  # Pour l'AFC\n",
        "\n",
        "# Charger les fichiers\n",
        "appearances = pd.read_csv(\"appearances.csv\")\n",
        "players = pd.read_csv(\"players.csv\")\n",
        "\n",
        "# Fusion des données\n",
        "data = pd.merge(appearances, players, on=\"player_id\")\n",
        "\n",
        "# Sélection des colonnes pertinentes\n",
        "data = data[['goals', 'assists', 'minutes_played', 'market_value_in_eur']]\n",
        "\n",
        "# Transformation en catégories\n",
        "data['performance'] = pd.qcut(data[['goals', 'assists', 'minutes_played']].sum(axis=1),\n",
        "                              q=3, labels=['Faible', 'Moyen', 'Élevé'])\n",
        "data['market_value'] = pd.qcut(data['market_value_in_eur'],\n",
        "                               q=3, labels=['Bas', 'Moyen', 'Élevé'])\n",
        "\n",
        "# Construction de la table croisée\n",
        "contingency_table = pd.crosstab(data['performance'], data['market_value'])\n",
        "# Appliquer l'AFC\n",
        "afc = prince.CA()\n",
        "afc = afc.fit(contingency_table)\n",
        "\n",
        "# Récupérer les coordonnées des lignes et des colonnes\n",
        "row_coords = afc.row_coordinates(contingency_table)\n",
        "col_coords = afc.column_coordinates(contingency_table)\n",
        "\n",
        "# Visualisation avec matplotlib\n",
        "import matplotlib.pyplot as plt\n",
        "\n",
        "plt.figure(figsize=(10, 7))\n",
        "\n",
        "# Tracer les coordonnées des lignes\n",
        "plt.scatter(row_coords[0], row_coords[1], label='Performances', color='blue')\n",
        "for i, label in enumerate(contingency_table.index):\n",
        "    plt.text(row_coords[0][i], row_coords[1][i], label, color='blue')\n",
        "\n",
        "# Tracer les coordonnées des colonnes\n",
        "plt.scatter(col_coords[0], col_coords[1], label='Valeur Marché', color='red')\n",
        "for i, label in enumerate(contingency_table.columns):\n",
        "    plt.text(col_coords[0][i], col_coords[1][i], label, color='red')\n",
        "\n",
        "plt.title(\"Analyse Factorielle des Correspondances (AFC)\")\n",
        "plt.xlabel(\"Dimension 1\")\n",
        "plt.ylabel(\"Dimension 2\")\n",
        "plt.axhline(0, color='black', linewidth=0.5, linestyle='--')\n",
        "plt.axvline(0, color='black', linewidth=0.5, linestyle='--')\n",
        "plt.legend()\n",
        "plt.grid()\n",
        "plt.show()\n"
      ],
      "metadata": {
        "colab": {
          "base_uri": "https://localhost:8080/",
          "height": 730
        },
        "id": "r6Bdc8_r-AF0",
        "outputId": "fadc876e-e1ab-4ff9-d15c-20160ac415ca"
      },
      "execution_count": 34,
      "outputs": [
        {
          "output_type": "stream",
          "name": "stderr",
          "text": [
            "<ipython-input-34-3148e4576485>:39: FutureWarning: Series.__getitem__ treating keys as positions is deprecated. In a future version, integer keys will always be treated as labels (consistent with DataFrame behavior). To access a value by position, use `ser.iloc[pos]`\n",
            "  plt.text(row_coords[0][i], row_coords[1][i], label, color='blue')\n",
            "<ipython-input-34-3148e4576485>:44: FutureWarning: Series.__getitem__ treating keys as positions is deprecated. In a future version, integer keys will always be treated as labels (consistent with DataFrame behavior). To access a value by position, use `ser.iloc[pos]`\n",
            "  plt.text(col_coords[0][i], col_coords[1][i], label, color='red')\n"
          ]
        },
        {
          "output_type": "display_data",
          "data": {
            "text/plain": [
              "<Figure size 1000x700 with 1 Axes>"
            ],
            "image/png": "[encoded data removed]"
          },
          "metadata": {}
        }
      ]
    },
    {
      "cell_type": "code",
      "source": [
        "import pandas as pd\n",
        "import numpy as np\n",
        "import prince  # Pour l'AFC\n",
        "import matplotlib.pyplot as plt\n",
        "\n",
        "# Charger les fichiers\n",
        "appearances = pd.read_csv(\"appearances.csv\")\n",
        "players = pd.read_csv(\"players.csv\")\n",
        "\n",
        "# Fusion des données\n",
        "data = pd.merge(appearances, players, on=\"player_id\")\n",
        "\n",
        "# Sélection des colonnes pertinentes\n",
        "data = data[['goals', 'assists', 'minutes_played', 'market_value_in_eur']]\n",
        "\n",
        "# Transformation en catégories\n",
        "# Ajout d'une perturbation minuscule pour éviter les duplications si nécessaire\n",
        "performance_score = data[['goals', 'assists', 'minutes_played']].sum(axis=1) + np.random.uniform(0, 0.01, size=len(data))\n",
        "\n",
        "# Conversion en catégories (résolution des doublons avec duplicates=\"drop\")\n",
        "data['performance_detailed'] = pd.qcut(\n",
        "    performance_score,\n",
        "    q=5,\n",
        "    labels=['Très faible', 'Faible', 'Moyen', 'Élevé', 'Très élevé'],\n",
        "    duplicates='drop'\n",
        ")\n",
        "\n",
        "data['market_value_detailed'] = pd.qcut(\n",
        "    data['market_value_in_eur'],\n",
        "    q=5,\n",
        "    labels=['Très bas', 'Bas', 'Moyen', 'Élevé', 'Très élevé'],\n",
        "    duplicates='drop'\n",
        ")\n",
        "\n",
        "# Construction de la table croisée\n",
        "contingency_table = pd.crosstab(data['performance_detailed'], data['market_value_detailed'])\n",
        "\n",
        "# Appliquer l'AFC\n",
        "afc = prince.CA(n_components=2)\n",
        "afc = afc.fit(contingency_table)\n",
        "\n",
        "# Récupérer les coordonnées des lignes et des colonnes\n",
        "row_coords = afc.row_coordinates(contingency_table)\n",
        "col_coords = afc.column_coordinates(contingency_table)\n",
        "\n",
        "# Visualisation avec matplotlib\n",
        "plt.figure(figsize=(10, 7))\n",
        "\n",
        "# Tracer les coordonnées des lignes (performances)\n",
        "plt.scatter(row_coords[0], row_coords[1], label='Performances', color='blue')\n",
        "for i, label in enumerate(contingency_table.index):\n",
        "    plt.text(row_coords[0][i], row_coords[1][i], label, color='blue')\n",
        "\n",
        "# Tracer les coordonnées des colonnes (valeur marchande)\n",
        "plt.scatter(col_coords[0], col_coords[1], label='Valeur Marché', color='red')\n",
        "for i, label in enumerate(contingency_table.columns):\n",
        "    plt.text(col_coords[0][i], col_coords[1][i], label, color='red')\n",
        "\n",
        "# Décoration du graphique\n",
        "plt.title(\"Analyse Factorielle des Correspondances (AFC)\")\n",
        "plt.xlabel(\"Dimension 1\")\n",
        "plt.ylabel(\"Dimension 2\")\n",
        "plt.axhline(0, color='black', linewidth=0.5, linestyle='--')\n",
        "plt.axvline(0, color='black', linewidth=0.5, linestyle='--')\n",
        "plt.legend()\n",
        "plt.grid()\n",
        "plt.show()\n"
      ],
      "metadata": {
        "id": "DYpVSv8qvJMM",
        "colab": {
          "base_uri": "https://localhost:8080/",
          "height": 730
        },
        "outputId": "e0c50541-011b-4363-ef90-bbc1c55fd1b3"
      },
      "execution_count": 33,
      "outputs": [
        {
          "output_type": "stream",
          "name": "stderr",
          "text": [
            "<ipython-input-33-f3eadcf9acbc>:52: FutureWarning: Series.__getitem__ treating keys as positions is deprecated. In a future version, integer keys will always be treated as labels (consistent with DataFrame behavior). To access a value by position, use `ser.iloc[pos]`\n",
            "  plt.text(row_coords[0][i], row_coords[1][i], label, color='blue')\n",
            "<ipython-input-33-f3eadcf9acbc>:57: FutureWarning: Series.__getitem__ treating keys as positions is deprecated. In a future version, integer keys will always be treated as labels (consistent with DataFrame behavior). To access a value by position, use `ser.iloc[pos]`\n",
            "  plt.text(col_coords[0][i], col_coords[1][i], label, color='red')\n"
          ]
        },
        {
          "output_type": "display_data",
          "data": {
            "text/plain": [
              "<Figure size 1000x700 with 1 Axes>"
            ],
            "image/png": "[encoded data removed]"
          },
          "metadata": {}
        }
      ]
    },
    {
      "cell_type": "markdown",
      "source": [
        "\n",
        "\n",
        "1.   Proximité des points\n",
        "\n",
        "Les points proches dans le graphique représentent une correspondance forte :\n",
        "\n",
        "\n",
        "*   \"Très élevé\" (bleu) en performance est proche de \"Très élevé\" (rouge) en valeur marchande.\n",
        "Cela signifie que les joueurs ayant des performances très élevées tendent à avoir des valeurs marchandes très élevées.\n",
        "*   \"Très faible\" (bleu) est relativement éloigné des valeurs marchandes élevées, ce qui indique que les joueurs avec des performances très faibles ont généralement une valeur marchande basse.\n",
        "2.  Éloignement des points\n",
        "\n",
        "Les points éloignés sur le graphique montrent des catégories qui ont peu ou pas de relation :\n",
        "\n",
        "\n",
        "* \"Très bas\" (rouge) et \"Élevé\" (bleu) n’ont pas de forte association.\n",
        "\n",
        "\n",
        "\n",
        "\n",
        "\n",
        "\n"
      ],
      "metadata": {
        "id": "_caPDa3_8eYx"
      }
    }
  ]
}